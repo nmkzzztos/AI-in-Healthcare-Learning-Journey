{
 "cells": [
  {
   "cell_type": "code",
   "execution_count": 1,
   "metadata": {},
   "outputs": [],
   "source": [
    "from typing import List"
   ]
  },
  {
   "cell_type": "markdown",
   "metadata": {},
   "source": [
    "## Merge Sorted Array\n",
    "\n",
    "- Given:\n",
    "   - Two sorted arrays `nums1` and `nums2`.\n",
    "   - `m` and `n` are the number of elements in `nums1` and `nums2` respectively.\n",
    "\n",
    "- Objective:\n",
    "   - Merge nums2 into nums1 such that the resultant nums1 is sorted **in non-decreasing order**.\n",
    "\n",
    "- Solution:\n",
    "   1) Using two pointers `p1` and `p2` to keep track of the elements in `nums1` and `nums2` respectively.\n",
    "   2) Compare the elements at `p1` and `p2`, and put the smaller one into the end of `nums1`.\n",
    "   3) If `p1` or `p2` reaches the end of `nums1` or `nums2`, put the rest of the other array into the end of `nums1`.\n",
    "   \n",
    "<br>\n",
    "\n",
    "| Time Complexity | Space Complexity | Difficulty |\n",
    "|-----------------|------------------|------------|\n",
    "| O(m+n)          | O(1)             | Easy       |"
   ]
  },
  {
   "cell_type": "code",
   "execution_count": 1,
   "metadata": {},
   "outputs": [
    {
     "name": "stdout",
     "output_type": "stream",
     "text": [
      "merge() passed\n"
     ]
    }
   ],
   "source": [
    "def merge(nums1: List[int], m: int, nums2: List[int], n: int) -> None:\n",
    "        if n < 1:\n",
    "            return\n",
    "\n",
    "        p1, p2, target = m - 1, n - 1, m + n - 1\n",
    "\n",
    "        while p2 >= 0:\n",
    "            if p1 >= 0 and nums1[p1] > nums2[p2]:\n",
    "                nums1[target] = nums1[p1]\n",
    "                p1 -= 1\n",
    "                target -= 1\n",
    "            else:\n",
    "                nums1[target] = nums2[p2]\n",
    "                p2 -= 1\n",
    "                target -= 1\n",
    "\n",
    "def test_merge():\n",
    "    test_cases = [\n",
    "        (([1,2,3,0,0,0], 3, [2,5,6], 3), [1,2,2,3,5,6]),\n",
    "        (([1], 1, [], 0), [1]),\n",
    "        (([0], 0, [1], 1), [1])\n",
    "    ]\n",
    "\n",
    "    for args, expected in test_cases:\n",
    "        nums1, m, nums2, n = args\n",
    "        merge(nums1, m, nums2, n)\n",
    "        assert nums1 == expected\n",
    "\n",
    "if __name__ == '__main__':\n",
    "    test_merge()\n",
    "    print(\"merge() passed\")"
   ]
  },
  {
   "cell_type": "markdown",
   "metadata": {},
   "source": [
    "# Remove Element Array\n",
    "\n",
    "- Given:\n",
    "   - An integer array `nums` and an integer `val`.\n",
    "   - `nums` is sorted in non-decreasing order.\n",
    "\n",
    "- Objective:\n",
    "   - Remove all occurrences of `val` in `nums` in-place. The relative order of the elements may be changed.\n",
    "\n",
    "- Solution:\n",
    "   1) Using pointer `p` to keep track of the position of the elements in `nums` where we can put the elements that are not equal to `val`.\n",
    "   2) Iterate through the array, if the element is not equal to `val`, put it into the position `p` and increment `p`.\n",
    "\n",
    "<br>\n",
    "\n",
    "| Time Complexity | Space Complexity | Difficulty |\n",
    "|-----------------|------------------|------------|\n",
    "| O(n)            | O(1)             | Easy       |"
   ]
  },
  {
   "cell_type": "code",
   "execution_count": 3,
   "metadata": {},
   "outputs": [
    {
     "name": "stdout",
     "output_type": "stream",
     "text": [
      "removeElement() passed\n"
     ]
    }
   ],
   "source": [
    "def removeElement(nums: List[int], val: int) -> int:\n",
    "        p = 0\n",
    "\n",
    "        for num in nums:\n",
    "            if num != val:\n",
    "                nums[p] = num\n",
    "                p += 1\n",
    "        \n",
    "        return p\n",
    "\n",
    "def test_removeElement():\n",
    "    test_cases = [\n",
    "        ([3,2,2,3], 3, 2),\n",
    "        ([0,1,2,2,3,0,4,2], 2, 5)\n",
    "    ]\n",
    "\n",
    "    for args, val, expected in test_cases:\n",
    "        assert removeElement(args, val) == expected\n",
    "    \n",
    "if __name__ == '__main__':\n",
    "    test_removeElement()\n",
    "    print(\"removeElement() passed\")"
   ]
  },
  {
   "cell_type": "markdown",
   "metadata": {},
   "source": [
    "# Remove Element Array\n",
    "\n",
    "- Given:\n",
    "   - An integer array `nums` sorted **in non-decreasing order**.\n",
    "\n",
    "- Objective:\n",
    "   - Remove the duplicates **in-place** such that each unique element appears only once.\n",
    "   - The **relative order** of the elements should be kept the **same**.\n",
    "\n",
    "- Solution:\n",
    "   1) Using pointer `p` to keep track of the position of the elements in `nums` where we can put unique elements.\n",
    "   2) Iterate through the array, if the element is not equal to the previous element, put it into the position `p` and increment `p`.\n",
    "\n",
    "<br>\n",
    "\n",
    "| Time Complexity | Space Complexity | Difficulty |\n",
    "|-----------------|------------------|------------|\n",
    "| O(n)            | O(1)             | Easy       |"
   ]
  },
  {
   "cell_type": "code",
   "execution_count": 6,
   "metadata": {},
   "outputs": [
    {
     "name": "stdout",
     "output_type": "stream",
     "text": [
      "removeDuplicates() passed\n"
     ]
    }
   ],
   "source": [
    "def removeDuplicates(nums: List[int]) -> int:\n",
    "        if len(nums) < 2:\n",
    "            return\n",
    "\n",
    "        p = 1\n",
    "\n",
    "        for i in range(1, len(nums)):\n",
    "            if nums[i] != nums[i - 1]:\n",
    "                nums[p] = nums[i]\n",
    "                p += 1 \n",
    "\n",
    "        return p\n",
    "\n",
    "def test_removeDuplicates():\n",
    "    test_cases = [\n",
    "        ([1,1,2], 2),\n",
    "        ([0,0,1,1,1,2,2,3,3,4], 5)\n",
    "    ]\n",
    "\n",
    "    for args, expected in test_cases:\n",
    "        assert removeDuplicates(args) == expected\n",
    "\n",
    "if __name__ == '__main__':\n",
    "    test_removeDuplicates()\n",
    "    print(\"removeDuplicates() passed\")"
   ]
  },
  {
   "cell_type": "markdown",
   "metadata": {},
   "source": [
    "# Majority Element\n",
    "\n",
    "- Given:\n",
    "   - An integer array `nums`.\n",
    "\n",
    "- Objective:\n",
    "    - Find the majority element in the array.\n",
    "    - The majority element is the element that appears **more than** `n/2` times.\n",
    "\n",
    "- Solution:\n",
    "    - [Boyer-Moore Voting Algorithm](https://en.wikipedia.org/wiki/Boyer%E2%80%93Moore_majority_vote_algorithm):\n",
    "        1) Using two variables `candidate` and `count` to keep track of the current candidate and its count.\n",
    "        2) Iterate through the array, if the count is zero, update the candidate to the current element.\n",
    "        3) If the current element is equal to the candidate, increment the count, otherwise decrement the count.\n",
    "        4) The candidate is the majority element.\n",
    "\n",
    "<br>\n",
    "\n",
    "| Time Complexity | Space Complexity | Difficulty |\n",
    "|-----------------|------------------|------------|\n",
    "| O(n)            | O(1)             | Easy       |"
   ]
  },
  {
   "cell_type": "code",
   "execution_count": 2,
   "metadata": {},
   "outputs": [
    {
     "name": "stdout",
     "output_type": "stream",
     "text": [
      "majorityElement() passed\n"
     ]
    }
   ],
   "source": [
    "def majorityElement(nums: List[int]) -> int:\n",
    "        if len(nums) < 2:\n",
    "            return nums[0]\n",
    "\n",
    "        candidate = None\n",
    "        count = 0\n",
    "\n",
    "        for num in nums:\n",
    "            if count == 0:\n",
    "                candidate = num\n",
    "            count += (1 if candidate == num else -1)\n",
    "\n",
    "        return candidate\n",
    "\n",
    "def test_majorityElement():\n",
    "    test_cases = [\n",
    "        ([3,2,3], 3),\n",
    "        ([2,2,1,1,1,2,2], 2)\n",
    "    ]\n",
    "\n",
    "    for args, expected in test_cases:\n",
    "        assert majorityElement(args) == expected\n",
    "\n",
    "if __name__ == '__main__':\n",
    "    test_majorityElement()\n",
    "    print(\"majorityElement() passed\")"
   ]
  },
  {
   "cell_type": "markdown",
   "metadata": {},
   "source": [
    "# Rotate Array\n",
    "\n",
    "- Given:\n",
    "   - An integer array `nums`.\n",
    "   - An integer `k`.\n",
    "\n",
    "- Objective:\n",
    "    - Rotate the array to the right by `k` steps.\n",
    "\n",
    "- Solution:\n",
    "    1) Reverse the whole array.\n",
    "    2) Reverse the first `k` elements.\n",
    "    3) Reverse the rest of the elements.\n",
    "\n",
    "<br>\n",
    "\n",
    "| Time Complexity | Space Complexity | Difficulty |\n",
    "|-----------------|------------------|------------|\n",
    "| O(n)            | O(1)             | Easy       |"
   ]
  },
  {
   "cell_type": "code",
   "execution_count": 3,
   "metadata": {},
   "outputs": [
    {
     "name": "stdout",
     "output_type": "stream",
     "text": [
      "rotate() passed\n"
     ]
    }
   ],
   "source": [
    "def rotate(nums: List[int], k: int) -> None:\n",
    "        n = len(nums)\n",
    "        k %= n\n",
    "\n",
    "        def reverse(start: int, end: int) -> None:\n",
    "            while start < end:\n",
    "                nums[start], nums[end] = nums[end], nums[start]\n",
    "                start, end = start + 1, end - 1\n",
    "\n",
    "        reverse(0, n - 1)\n",
    "        reverse(0, k - 1)\n",
    "        reverse(k, n - 1)\n",
    "\n",
    "def test_rotate():\n",
    "    test_cases = [\n",
    "        (([1,2,3,4,5,6,7], 3), [5,6,7,1,2,3,4]),\n",
    "        (([-1,-100,3,99], 2), [3,99,-1,-100])\n",
    "    ]\n",
    "\n",
    "    for args, expected in test_cases:\n",
    "        rotate(*args)\n",
    "        assert args[0] == expected\n",
    "\n",
    "if __name__ == '__main__':\n",
    "    test_rotate()\n",
    "    print(\"rotate() passed\")"
   ]
  },
  {
   "cell_type": "markdown",
   "metadata": {},
   "source": [
    "# Best Time to Buy and Sell Stock\n",
    "\n",
    "- Given:\n",
    "   - An integer array `prices` where `prices[i]` is the price of a given stock on the `i-th` day.\n",
    "\n",
    "- Objective:\n",
    "    - Find the maximum profit you can achieve by buying and selling the stock at most once.\n",
    "\n",
    "- Solution:\n",
    "    1) Using three variables `p1`, `p2`, and `profit` to keep track of the minimum price, the maximum price, and the maximum profit.\n",
    "    2) Iterate through the array, update `p1` and `p2` if the current price is smaller or larger than them.\n",
    "    3) Update the profit if the difference between `p2` and `p1` is larger than the current profit.\n",
    "\n",
    "<br>\n",
    "\n",
    "| Time Complexity | Space Complexity | Difficulty |\n",
    "|-----------------|------------------|------------|\n",
    "| O(n)            | O(1)             | Easy       |"
   ]
  },
  {
   "cell_type": "code",
   "execution_count": 2,
   "metadata": {},
   "outputs": [
    {
     "name": "stdout",
     "output_type": "stream",
     "text": [
      "maxProfit() passed\n"
     ]
    }
   ],
   "source": [
    "def maxProfit(prices: List[int]) -> int:\n",
    "    p1, p2, profit = len(prices) - 1, len(prices) - 2, 0\n",
    "\n",
    "    while p2 >= 0:\n",
    "        if prices[p1] < prices[p2]:\n",
    "            p1 = p2\n",
    "            p2 -= 1\n",
    "            continue\n",
    "\n",
    "        diff = prices[p1] - prices[p2]\n",
    "        if diff > profit:\n",
    "            profit = diff\n",
    "        p2 -= 1\n",
    "\n",
    "    return profit\n",
    "\n",
    "def test_maxProfit():\n",
    "    test_cases = [\n",
    "        ([7,1,5,3,6,4], 5),\n",
    "        ([7,6,4,3,1], 0)\n",
    "    ]\n",
    "\n",
    "    for args, expected in test_cases:\n",
    "        assert maxProfit(args) == expected\n",
    "\n",
    "if __name__ == '__main__':\n",
    "    test_maxProfit()\n",
    "    print(\"maxProfit() passed\")"
   ]
  },
  {
   "cell_type": "markdown",
   "metadata": {},
   "source": [
    "# Best Time to Buy and Sell Stock II\n",
    "\n",
    "- Given:\n",
    "   - An integer array `prices` where `prices[i]` is the price of a given stock on the `i-th` day.\n",
    "\n",
    "- Objective:\n",
    "    - Find the maximum profit you can achieve by buying and selling the stock multiple times. On each day, you can either buy or sell the stock. You can only hold at most one stock at a time.\n",
    "\n",
    "- Solution:\n",
    "    1) Using two variables `p` and `profit` to keep track of the previous price and the maximum profit.\n",
    "    2) Iterate through the array, if the current price is larger than the previous price, add the difference to the profit.\n",
    "\n",
    "<br>\n",
    "\n",
    "| Time Complexity | Space Complexity | Difficulty |\n",
    "|-----------------|------------------|------------|\n",
    "| O(n)            | O(1)             | Easy       |"
   ]
  },
  {
   "cell_type": "code",
   "execution_count": 3,
   "metadata": {},
   "outputs": [
    {
     "name": "stdout",
     "output_type": "stream",
     "text": [
      "maxProfit() passed\n"
     ]
    }
   ],
   "source": [
    "def maxProfit(prices: List[int]) -> int:\n",
    "    if len(prices) == 1: # edge case\n",
    "        return 0\n",
    "\n",
    "    p, profit = len(prices) - 1, 0\n",
    "\n",
    "    while p > 0:\n",
    "        if prices[p] < prices[p-1]:\n",
    "            p -= 1\n",
    "            continue\n",
    "        \n",
    "        profit += prices[p] - prices[p-1]\n",
    "        p -= 1\n",
    "\n",
    "    return profit\n",
    "\n",
    "def test_maxProfit():\n",
    "    test_cases = [\n",
    "        ([7,1,5,3,6,4], 7),\n",
    "        ([1,2,3,4,5], 4),\n",
    "        ([7,6,4,3,1], 0)\n",
    "    ]\n",
    "\n",
    "    for args, expected in test_cases:\n",
    "        assert maxProfit(args) == expected\n",
    "\n",
    "if __name__ == '__main__':\n",
    "    test_maxProfit()\n",
    "    print(\"maxProfit() passed\")"
   ]
  },
  {
   "cell_type": "markdown",
   "metadata": {},
   "source": [
    "# Jump Game\n",
    "\n",
    "- Given:\n",
    "   - An integer array `nums` where `nums[i]` is the maximum jump length at position `i`.\n",
    "\n",
    "- Objective:\n",
    "    - Determine if you can reach the last index.\n",
    "\n",
    "- Solution:\n",
    "    1) Using a variable `jumps` to count the possible jumps.\n",
    "    2) Iterate through the array, increment the `jumps` if the current index is greater than to the `jumps`.\n",
    "    3) If the `jumps` is greater than or equal to the last index, return `True`, otherwise return `False`.\n",
    "\n",
    "<br>\n",
    "\n",
    "| Time Complexity | Space Complexity | Difficulty |\n",
    "|-----------------|------------------|------------|\n",
    "| O(n)            | O(1)             | Medium     |"
   ]
  },
  {
   "cell_type": "code",
   "execution_count": null,
   "metadata": {},
   "outputs": [],
   "source": [
    "def canJump(nums: List[int]) -> bool:\n",
    "    jumps = 0\n",
    "\n",
    "    for i in range(len(nums) - 1):\n",
    "        jumps -= 1\n",
    "\n",
    "        if nums[i] > jumps:\n",
    "            jumps = nums[i]\n",
    "\n",
    "        if jumps <= 0:\n",
    "            return False\n",
    "\n",
    "    return True"
   ]
  }
 ],
 "metadata": {
  "kernelspec": {
   "display_name": "base",
   "language": "python",
   "name": "python3"
  },
  "language_info": {
   "codemirror_mode": {
    "name": "ipython",
    "version": 3
   },
   "file_extension": ".py",
   "mimetype": "text/x-python",
   "name": "python",
   "nbconvert_exporter": "python",
   "pygments_lexer": "ipython3",
   "version": "3.11.5"
  }
 },
 "nbformat": 4,
 "nbformat_minor": 2
}
